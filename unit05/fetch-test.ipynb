{
 "cells": [
  {
   "cell_type": "code",
   "execution_count": null,
   "id": "3f5602d4-052c-4796-bb33-b3d4652bb5a8",
   "metadata": {},
   "outputs": [],
   "source": [
    "# JSON檔案讀取範例\n",
    "import json\n",
    "file = \"cpocars.json\"\n",
    "fp = open(file, \"r\", encoding=\"utf-8\")\n",
    "data = json.loads(fp.read())\n",
    "print(data)"
   ]
  },
  {
   "cell_type": "code",
   "execution_count": 29,
   "id": "d57084b6-f8e3-4f8d-9935-5d8e862260fd",
   "metadata": {
    "collapsed": true,
    "jupyter": {
     "outputs_hidden": true
    }
   },
   "outputs": [
    {
     "name": "stdout",
     "output_type": "stream",
     "text": [
      "{'USD': 31.435, 'HKD': 3.945, 'GBP': 41.06, 'AUD': 21.53, 'CAD': 23.09, 'SGD': 24.07, 'CHF': 36.66, 'JPY': 0.2082, 'ZAR': 0.0, 'SEK': 0.0, 'NZD': 19.46, 'THB': 0.8404, 'PHP': 0.5009, 'IDR': 0.00168, 'EUR': 34.37, 'KRW': 0.02233, 'VND': 0.00105, 'MYR': 6.602, 'CNY': 4.429}\n"
     ]
    }
   ],
   "source": [
    "# CSV檔案讀取範例\n",
    "import csv\n",
    "file = \"exchangerate.csv\"\n",
    "data = dict()\n",
    "with open(file, \"r\", encoding=\"utf-8\") as fp:\n",
    "    csv_reader = csv.reader(fp)\n",
    "    next(csv_reader)     # 避免讀到欄位名稱\n",
    "    for row in csv_reader:\n",
    "        data[row[0]] = float(row[2])\n",
    "print(data)"
   ]
  },
  {
   "cell_type": "code",
   "execution_count": null,
   "id": "2081eced-65ef-4f71-a2ce-6037e2f6e9c3",
   "metadata": {},
   "outputs": [],
   "source": [
    "# 新北市買賣實價登錄讀取範例\n",
    "url = \"https://data.ntpc.gov.tw/api/datasets/acce802d-58cc-4dff-9e7a-9ecc517f78be/json\"\n",
    "import requests, json\n",
    "html = requests.get(url).text\n",
    "data = json.loads(html)\n",
    "print(data)"
   ]
  },
  {
   "cell_type": "code",
   "execution_count": null,
   "id": "f28b42b2-980d-4aec-a0b2-66280eb0630d",
   "metadata": {},
   "outputs": [],
   "source": [
    "# 樂屋網爬取實例\n",
    "url = \"https://www.rakuya.com.tw/sell/result?zipcode=741&usecode=1\"\n",
    "import requests\n",
    "headers = {\n",
    "    \"User-Agent\":\"Mozilla/5.0 (Windows NT 10.0; Win64; x64) AppleWebKit/537.36 (KHTML, like Gecko) Chrome/129.0.0.0 Safari/537.36 Edg/129.0.0.0\"\n",
    "}\n",
    "html = requests.get(url, headers=headers).text"
   ]
  },
  {
   "cell_type": "code",
   "execution_count": null,
   "id": "6562be40-c6f7-412f-b827-bfff9ba7e4be",
   "metadata": {},
   "outputs": [],
   "source": [
    "from bs4 import BeautifulSoup\n",
    "soup = BeautifulSoup(html, \"html.parser\")\n",
    "sel = \"div.box__communityIntro > section > a\"\n",
    "items = soup.select(sel)\n",
    "for item in items:\n",
    "    try:\n",
    "        title = item.h2.text\n",
    "        space = item.find(\"li\", class_=\"info__space\").text\n",
    "        price = item.find(\"span\", class_=\"info__price--total\").text\n",
    "        unit_price = item.find(\"li\", class_=\"info__price--unit\").text\n",
    "        print(title, space)\n",
    "        print(price)\n",
    "        print(unit_price)\n",
    "        print(\"--------------------------\")\n",
    "    except:\n",
    "        pass"
   ]
  },
  {
   "cell_type": "code",
   "execution_count": 4,
   "id": "7669b6d7-e846-4794-8271-1ba14d61f20e",
   "metadata": {},
   "outputs": [],
   "source": [
    "# 讀取PCHOME商品範例\n",
    "from selenium import webdriver\n",
    "from selenium.webdriver.chrome.service import Service\n",
    "from selenium.webdriver.common.by import By\n",
    "from selenium.webdriver.support.ui import WebDriverWait\n",
    "from selenium.webdriver.support import expected_conditions as EC\n",
    "from webdriver_manager.chrome import ChromeDriverManager\n",
    "import time\n",
    "import json\n",
    "\n",
    "# 啟動瀏覽器\n",
    "driver = webdriver.Chrome(service=Service(ChromeDriverManager().install()))\n",
    "\n",
    "# 開啟指定的網頁\n",
    "url = \"https://24h.pchome.com.tw/search/?q=samsung%20a35\"\n",
    "driver.get(url)\n",
    "\n",
    "# 等待網頁完全加載\n",
    "time.sleep(5)\n",
    "html = driver.page_source\n",
    "driver.quit()"
   ]
  },
  {
   "cell_type": "code",
   "execution_count": 19,
   "id": "442cb496-4424-457e-9b39-3b2778ba93e1",
   "metadata": {},
   "outputs": [
    {
     "name": "stdout",
     "output_type": "stream",
     "text": [
      "【NT$:9900元】Samsung 三星 Galaxy A35 5G (8G/128G)\n",
      "【NT$:9900元】Samsung 三星 Galaxy A35 5G (6G/128G)\n",
      "【NT$:9290元】Samsung 三星 Galaxy A35 5G (6G/128G) 6.6吋智慧型手機\n",
      "【NT$:8900元】SAMSUNG Galaxy A35 5G (6G/128G)\n",
      "【NT$:10290元】Samsung 三星 Galaxy A35 5G (8G/128G) 6.6吋智慧型手機\n",
      "【NT$:10290元】Samsung 三星 Galaxy A35 5G (8G/128G)\n",
      "【NT$:10290元】SAMSUNG Galaxy A35 5G (8G/128G)\n",
      "【NT$:9900元】Samsung 三星 Galaxy A35 5G (6GB/128GB) 6.6 吋大螢幕防水防塵手機(盒損全新品)\n",
      "【NT$:10290元】Samsung 三星 Galaxy A35 5G (8G/128G) 6.6吋智慧型手機\n",
      "【NT$:8500元】Samsung 三星 Galaxy A35 (8/128GB) 原廠保固到 2025/07/04\n",
      "【NT$:531元】CASE SHOP Samsung A35 5G\n",
      "【NT$:10290元】Samsung 三星 Galaxy A35 5G (8G/128G)\n",
      "【NT$:9290元】Samsung 三星 Galaxy A35 5G (6G/128G) 6.6吋智慧型手機\n",
      "【NT$:8600元】Samsung 三星 福利品限量下殺出清[福利品]  Galaxy A35 (8G/128GB) 全機9成9新\n",
      "【NT$:590元】Fierre Shann 真皮紋 Samsung A35 5G (6.6吋) 錢包支架款 磁吸側掀 手工PU皮套保護殼\n",
      "【NT$:531元】CASE SHOP Samsung A35 5G 指環支架站立保護殼-黑\n",
      "【NT$:10290元】Samsung 三星 Galaxy A35 5G (8G/128G)\n",
      "【NT$:490元】o-one 圓一 Samsung A35掛繩手機殼 強韌掛繩 軍功等級透明防摔殼\n",
      "【NT$:12990元】Samsung 三星 Galaxy A35 5G (8G/128G)\n",
      "【NT$:590元】o-one 圓一 Samsung A35 軍功Ⅱ防摔殼-晶石版 雙料材質 德國進口拜耳原料\n"
     ]
    }
   ],
   "source": [
    "from bs4 import BeautifulSoup\n",
    "soup = BeautifulSoup(html, \"html.parser\")\n",
    "products = soup.find_all(\"dl\", class_=\"col3f\")\n",
    "for product in products:\n",
    "    print(\"【NT$:{}元】\".format(product.find(\"span\", class_=\"value\").text), end=\"\")\n",
    "    print(product.find(\"h5\", class_=\"prod_name\").text)"
   ]
  }
 ],
 "metadata": {
  "kernelspec": {
   "display_name": "Python 3 (ipykernel)",
   "language": "python",
   "name": "python3"
  },
  "language_info": {
   "codemirror_mode": {
    "name": "ipython",
    "version": 3
   },
   "file_extension": ".py",
   "mimetype": "text/x-python",
   "name": "python",
   "nbconvert_exporter": "python",
   "pygments_lexer": "ipython3",
   "version": "3.12.4"
  }
 },
 "nbformat": 4,
 "nbformat_minor": 5
}

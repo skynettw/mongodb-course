{
 "cells": [
  {
   "cell_type": "code",
   "execution_count": null,
   "id": "3f5602d4-052c-4796-bb33-b3d4652bb5a8",
   "metadata": {},
   "outputs": [],
   "source": [
    "# JSON檔案讀取範例\n",
    "import json\n",
    "file = \"cpocars.json\"\n",
    "fp = open(file, \"r\", encoding=\"utf-8\")\n",
    "data = json.loads(fp.read())\n",
    "print(data)"
   ]
  },
  {
   "cell_type": "code",
   "execution_count": 29,
   "id": "d57084b6-f8e3-4f8d-9935-5d8e862260fd",
   "metadata": {},
   "outputs": [
    {
     "name": "stdout",
     "output_type": "stream",
     "text": [
      "{'USD': 31.435, 'HKD': 3.945, 'GBP': 41.06, 'AUD': 21.53, 'CAD': 23.09, 'SGD': 24.07, 'CHF': 36.66, 'JPY': 0.2082, 'ZAR': 0.0, 'SEK': 0.0, 'NZD': 19.46, 'THB': 0.8404, 'PHP': 0.5009, 'IDR': 0.00168, 'EUR': 34.37, 'KRW': 0.02233, 'VND': 0.00105, 'MYR': 6.602, 'CNY': 4.429}\n"
     ]
    }
   ],
   "source": [
    "# CSV檔案讀取範例\n",
    "import csv\n",
    "file = \"exchangerate.csv\"\n",
    "data = dict()\n",
    "with open(file, \"r\", encoding=\"utf-8\") as fp:\n",
    "    csv_reader = csv.reader(fp)\n",
    "    next(csv_reader)     # 避免讀到欄位名稱\n",
    "    for row in csv_reader:\n",
    "        data[row[0]] = float(row[2])\n",
    "print(data)"
   ]
  },
  {
   "cell_type": "code",
   "execution_count": 63,
   "id": "f28b42b2-980d-4aec-a0b2-66280eb0630d",
   "metadata": {},
   "outputs": [],
   "source": [
    "# 樂屋網爬取實例\n",
    "url = \"https://www.rakuya.com.tw/sell/result?zipcode=741&usecode=1\"\n",
    "import requests\n",
    "headers = {\n",
    "    \"User-Agent\":\"Mozilla/5.0 (Windows NT 10.0; Win64; x64) AppleWebKit/537.36 (KHTML, like Gecko) Chrome/129.0.0.0 Safari/537.36 Edg/129.0.0.0\"\n",
    "}\n",
    "html = requests.get(url, headers=headers).text"
   ]
  },
  {
   "cell_type": "code",
   "execution_count": null,
   "id": "6562be40-c6f7-412f-b827-bfff9ba7e4be",
   "metadata": {},
   "outputs": [],
   "source": [
    "from bs4 import BeautifulSoup\n",
    "soup = BeautifulSoup(html, \"html.parser\")\n",
    "sel = \"div.box__communityIntro > section > a\"\n",
    "items = soup.select(sel)\n",
    "for item in items:\n",
    "    try:\n",
    "        title = item.h2.text\n",
    "        space = item.find(\"li\", class_=\"info__space\").text\n",
    "        price = item.find(\"span\", class_=\"info__price--total\").text\n",
    "        unit_price = item.find(\"li\", class_=\"info__price--unit\").text\n",
    "        print(title, space)\n",
    "        print(price)\n",
    "        print(unit_price)\n",
    "        print(\"--------------------------\")\n",
    "    except:\n",
    "        pass"
   ]
  }
 ],
 "metadata": {
  "kernelspec": {
   "display_name": "Python 3 (ipykernel)",
   "language": "python",
   "name": "python3"
  },
  "language_info": {
   "codemirror_mode": {
    "name": "ipython",
    "version": 3
   },
   "file_extension": ".py",
   "mimetype": "text/x-python",
   "name": "python",
   "nbconvert_exporter": "python",
   "pygments_lexer": "ipython3",
   "version": "3.12.4"
  }
 },
 "nbformat": 4,
 "nbformat_minor": 5
}

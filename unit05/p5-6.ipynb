{
 "cells": [
  {
   "cell_type": "code",
   "execution_count": 5,
   "id": "7b84d831-c745-4462-8537-ca65326a1d38",
   "metadata": {},
   "outputs": [
    {
     "name": "stdout",
     "output_type": "stream",
     "text": [
      "Fetching page: 1\n",
      "Fetching page: 2\n",
      "Fetching page: 3\n",
      "Fetching page: 4\n",
      "Fetching page: 5\n",
      "Fetching page: 6\n",
      "Fetching page: 7\n",
      "Fetching page: 8\n",
      "Fetching page: 9\n",
      "Fetching page: 10\n",
      "Fetching page: 11\n",
      "Fetching page: 12\n",
      "Fetching page: 13\n",
      "Fetching page: 14\n",
      "Fetching page: 15\n",
      "Fetching page: 16\n",
      "Fetching page: 17\n",
      "Fetching page: 18\n",
      "Fetching page: 19\n",
      "Fetching page: 20\n",
      "Fetching page: 21\n",
      "Fetching page: 22\n",
      "Fetching page: 23\n",
      "Fetching page: 24\n",
      "Fetching page: 25\n",
      "Fetching page: 26\n",
      "Fetching page: 27\n",
      "Fetching page: 28\n",
      "Fetching page: 29\n",
      "Fetching page: 30\n",
      "Fetching page: 31\n",
      "Fetching page: 32\n",
      "Fetching page: 33\n",
      "Fetching page: 34\n",
      "Fetching page: 35\n",
      "Fetching page: 36\n",
      "Fetching page: 37\n",
      "Fetching page: 38\n",
      "Fetching page: 39\n",
      "Fetching page: 40\n",
      "Fetching page: 41\n",
      "Fetching page: 42\n",
      "Fetching page: 43\n",
      "Fetching page: 44\n",
      "Fetching page: 45\n",
      "Fetching page: 46\n",
      "Fetching page: 47\n",
      "Fetching page: 48\n",
      "Fetching page: 49\n",
      "Fetching page: 50\n",
      "Fetching page: 51\n",
      "Fetching page: 52\n",
      "Fetching page: 53\n",
      "Fetching page: 54\n",
      "Fetching page: 55\n",
      "Fetching page: 56\n",
      "Fetching page: 57\n",
      "Fetching page: 58\n",
      "Fetching page: 59\n",
      "Fetching page: 60\n",
      "Fetching page: 61\n",
      "Fetching page: 62\n",
      "Fetching page: 63\n",
      "Fetching page: 64\n",
      "758\n",
      "Done\n"
     ]
    }
   ],
   "source": [
    "url_pattern = \"https://www.nkust.edu.tw/p/403-1000-1363-{}.php?Lang=zh-tw\"\n",
    "import requests, time, json\n",
    "from bs4 import BeautifulSoup\n",
    "headers  = {\n",
    "    \"User-Agent\": \"Mozilla/5.0 (Windows NT 10.0; Win64; x64) AppleWebKit/537.36 (KHTML, like Gecko) Chrome/129.0.0.0 Safari/537.36 Edg/129.0.0.0\"\n",
    "}\n",
    "data = list()\n",
    "page = 1\n",
    "while True:\n",
    "    if page>100: break\n",
    "    print(\"Fetching page:\", page)\n",
    "    url = url_pattern.format(page)\n",
    "    try:\n",
    "        html = requests.get(url, headers=headers).text\n",
    "    except:\n",
    "        continue\n",
    "    soup = BeautifulSoup(html, \"html.parser\")\n",
    "    titles = soup.find_all(\"div\", class_=\"mtitle\")\n",
    "    for title in titles:\n",
    "        item = dict()\n",
    "        item[\"title\"] = title.a.text.strip()\n",
    "        item[\"date\"] = title.i.text.strip()\n",
    "        data.append(item)\n",
    "    has_next_page = soup.find(\"li\", class_=\"pg-next\")\n",
    "    if has_next_page:\n",
    "        page = page + 1\n",
    "    else:\n",
    "        break\n",
    "    time.sleep(5)\n",
    "print(len(data))\n",
    "with open(\"nkustnews.json\", 'w', encoding=\"utf-8\") as json_file:\n",
    "    json.dump(data, json_file, indent=4) \n",
    "print(\"Done\")"
   ]
  },
  {
   "cell_type": "code",
   "execution_count": null,
   "id": "4ddda01e-15a2-4e94-9373-62d5297a6df5",
   "metadata": {},
   "outputs": [],
   "source": [
    "!pip install pandas"
   ]
  },
  {
   "cell_type": "code",
   "execution_count": null,
   "id": "733fd4d7-f592-4856-85ad-f28cdad4c8b8",
   "metadata": {},
   "outputs": [],
   "source": [
    "bankurl = \"https://rate.bot.com.tw/xrt/flcsv/0/day\"\n",
    "import pandas as pd\n",
    "df = pd.read_csv(bankurl, encoding=\"utf-8\")\n",
    "data = df.to_dict()"
   ]
  },
  {
   "cell_type": "code",
   "execution_count": null,
   "id": "919385c8-ce48-4c6c-94f9-87bfa92d0ec4",
   "metadata": {},
   "outputs": [],
   "source": [
    "data = df['匯率'].to_dict()"
   ]
  }
 ],
 "metadata": {
  "kernelspec": {
   "display_name": "Python 3 (ipykernel)",
   "language": "python",
   "name": "python3"
  },
  "language_info": {
   "codemirror_mode": {
    "name": "ipython",
    "version": 3
   },
   "file_extension": ".py",
   "mimetype": "text/x-python",
   "name": "python",
   "nbconvert_exporter": "python",
   "pygments_lexer": "ipython3",
   "version": "3.12.4"
  }
 },
 "nbformat": 4,
 "nbformat_minor": 5
}

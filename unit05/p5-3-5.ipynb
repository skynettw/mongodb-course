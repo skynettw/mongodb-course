{
 "cells": [
  {
   "cell_type": "code",
   "execution_count": 9,
   "id": "3a78530a-a3d8-44be-811d-419a9ba5364f",
   "metadata": {},
   "outputs": [
    {
     "name": "stdout",
     "output_type": "stream",
     "text": [
      "31.435\n"
     ]
    }
   ],
   "source": [
    "import csv\n",
    "filename = \"exchangerate.csv\"\n",
    "data = dict()\n",
    "with open(filename, \"r\", encoding=\"utf-8\") as fp:\n",
    "    csv_reader = csv.reader(fp)\n",
    "    next(csv_reader)\n",
    "    for row in csv_reader:\n",
    "        data[row[0]] = float(row[2])\n",
    "print(data[\"USD\"])"
   ]
  },
  {
   "cell_type": "code",
   "execution_count": null,
   "id": "9bdff124-6722-4e59-a2ec-b8197693e04f",
   "metadata": {},
   "outputs": [],
   "source": [
    "import json\n",
    "fp = open(\"cpocars.json\", \"r\", encoding=\"utf-8\")\n",
    "data = json.loads(fp.read())\n",
    "for car in data:\n",
    "    print(car[\"車款\"], car[\"價格\"])"
   ]
  },
  {
   "cell_type": "code",
   "execution_count": null,
   "id": "c32c7cbb-12dc-47b6-bfa1-5c4a9d63432b",
   "metadata": {},
   "outputs": [],
   "source": [
    "url = \"https://data.ntpc.gov.tw/api/datasets/acce802d-58cc-4dff-9e7a-9ecc517f78be/json\"\n",
    "import requests, json\n",
    "data = json.loads(requests.get(url).text)"
   ]
  },
  {
   "cell_type": "code",
   "execution_count": 14,
   "id": "f688aa4a-45c7-4de0-9641-c53c3e6284eb",
   "metadata": {},
   "outputs": [
    {
     "name": "stdout",
     "output_type": "stream",
     "text": [
      "{'district': '八里區', 'rps01': '房地(土地+建物)+車位', 'rps02': '新北市八里區忠孝路１８之３號', 'rps03': '100.15', 'rps04': '住', 'rps05': None, 'rps06': None, 'rps07': '1111226', 'rps08': '土地1建物1車位1', 'rps09': '全', 'rps10': '四層', 'rps11': '透天厝', 'rps12': '住家用', 'rps13': '鋼筋混凝土造', 'rps14': '1020628', 'rps15': '241.78', 'rps16': '5', 'rps17': '2', 'rps18': '3', 'rps19': '有', 'rps20': '無', 'rps21': '19300000', 'rps22': '79825', 'rps23': '其他', 'rps24': '0', 'rps25': '0', 'rps26': None, 'rps27': 'RPWNMLSJKHIGFEF78DA', 'rps28': '153.83', 'rps29': '55.38', 'rps30': '29.97', 'rps31': '無'}\n"
     ]
    }
   ],
   "source": [
    "print(data[0])"
   ]
  },
  {
   "cell_type": "code",
   "execution_count": 15,
   "id": "ae16a093-f95a-43b9-b7b9-e22d49e43cc2",
   "metadata": {},
   "outputs": [],
   "source": [
    "url = \"https://www.rakuya.com.tw/sell/result?zipcode=741&usecode=1\"\n",
    "import requests\n",
    "headers = {\n",
    "    \"User-Agent\":\"Mozilla/5.0 (Windows NT 10.0; Win64; x64) AppleWebKit/537.36 (KHTML, like Gecko) Chrome/129.0.0.0 Safari/537.36 Edg/129.0.0.0\"\n",
    "}\n",
    "html = requests.get(url, headers=headers).text"
   ]
  },
  {
   "cell_type": "code",
   "execution_count": null,
   "id": "413f8614-0753-417d-84ff-376600f69d83",
   "metadata": {},
   "outputs": [],
   "source": [
    "from bs4 import BeautifulSoup\n",
    "soup = BeautifulSoup(html, \"html.parser\")\n",
    "sel = \"body > div > div.main-body > div.main-content.hasMode > div.block__search > div.box__communityIntro > section > a\"\n",
    "items = soup.select(sel)\n",
    "items[0]\n",
    "for item in items:\n",
    "    try:\n",
    "        print(item.find(\"div\", class_=\"card__head\").h2.text.strip(), end=\"\")\n",
    "        print(item.find(\"li\", class_=\"info__space\").text)\n",
    "        print(item.find(\"span\", class_=\"info__price--total\").text)\n",
    "        print(item.find(\"li\", class_=\"info__price--unit\").text)\n",
    "        print(\"----------------------------------------------------\")\n",
    "    except:\n",
    "        pass"
   ]
  },
  {
   "cell_type": "code",
   "execution_count": null,
   "id": "3a1e0802-a937-4337-97f0-ae9790848ba4",
   "metadata": {},
   "outputs": [],
   "source": [
    "url_pattern = \"https://www.rakuya.com.tw/sell/result?zipcode=741&usecode=1&sort=11&page={}\"\n",
    "for page in range(1, 11):\n",
    "    url = url_pattern.format(page)\n",
    "    print(url)"
   ]
  },
  {
   "cell_type": "code",
   "execution_count": 41,
   "id": "f24bcf09-0d4c-441c-b9bc-73ece606d344",
   "metadata": {},
   "outputs": [],
   "source": [
    "from selenium import webdriver\n",
    "from selenium.webdriver.chrome.service import Service\n",
    "from selenium.webdriver.common.by import By\n",
    "from selenium.webdriver.support.ui import WebDriverWait\n",
    "from selenium.webdriver.support import expected_conditions as EC\n",
    "from webdriver_manager.chrome import ChromeDriverManager\n",
    "import time\n",
    "import json\n",
    "# 啟動瀏覽器\n",
    "driver = webdriver.Chrome(service=Service(ChromeDriverManager().install()))\n",
    "\n",
    "# 開啟指定的網頁\n",
    "url = \"https://24h.pchome.com.tw/search/?q=samsung%20a35\"\n",
    "driver.get(url)\n",
    "\n",
    "# 等待網頁完全加載\n",
    "time.sleep(10)\n",
    "html = driver.page_source\n",
    "driver.quit()"
   ]
  },
  {
   "cell_type": "code",
   "execution_count": 44,
   "id": "bf1ba5a6-c3fb-4b68-ae6e-bef283f7640d",
   "metadata": {},
   "outputs": [
    {
     "name": "stdout",
     "output_type": "stream",
     "text": [
      "Samsung 三星 Galaxy A35 5G (6G/128G)\n",
      "9900\n",
      "Samsung 三星 Galaxy A35 5G (8G/128G)\n",
      "12990\n",
      "Samsung 三星 Galaxy A35 5G (6G/128G) 6.6吋智慧型手機\n",
      "9290\n",
      "SAMSUNG Galaxy A35 5G (6G/128G)\n",
      "8900\n",
      "AIVK PD35W氮化鎵GaN充電器 USB-C/A 雙孔快充頭充電器 豆腐頭 旅行充電器 快充頭 適用iPhone/三星/筆電\n",
      "599\n",
      "Samsung 三星 Galaxy A35 5G (6G/128G) 6.6吋智慧型手機\n",
      "9290\n",
      "Samsung 三星 Galaxy A35 5G (8G/128G)\n",
      "10290\n",
      "AIVK 35W氮化鎵 雙孔快充充電器 USB-A/Type-C 旅行充電器 充電頭 豆腐頭支援筆電/iPhone/三星\n",
      "499\n",
      "Samsung 三星 Galaxy A35 5G (8G/128G) 6.6吋智慧型手機\n",
      "10290\n",
      "Samsung 三星 Galaxy A35 5G (6GB/128GB) 6.6 吋大螢幕防水防塵手機(盒損全新品)\n",
      "9900\n",
      "Samsung 三星 Galaxy A35 5G (8G/128G) 6.6吋智慧型手機\n",
      "10290\n",
      "Samsung 三星 Galaxy A35 5G (8G/128G)\n",
      "10290\n",
      "SAMSUNG Galaxy A35 5G (8G/128G)\n",
      "10290\n",
      "Samsung 三星 Galaxy A35 5G (8G/128G)\n",
      "10290\n",
      "Samsung 三星 Galaxy A35 5G 透明保護殼\n",
      "590\n",
      "Samsung 三星 福利品限量下殺出清[福利品]  Galaxy A35 (8G/128GB) 全機9成9新\n",
      "8600\n",
      "Fierre Shann 真皮紋 Samsung A35 5G (6.6吋) 錢包支架款 磁吸側掀 手工PU皮套保護殼\n",
      "590\n",
      "Samsung 三星 Galaxy A35 (8/128GB) 原廠保固到 2025/07/04\n",
      "8500\n",
      "CASE SHOP Samsung A35 5G 指環支架站立保護殼-黑\n",
      "531\n",
      "T.G Samsung Galaxy A35 5G / A55 5G 防窺滿版鋼化膜手機保護貼(防爆防指紋)\n",
      "590\n"
     ]
    }
   ],
   "source": [
    "from bs4 import BeautifulSoup\n",
    "soup = BeautifulSoup(html, \"html.parser\")\n",
    "products = soup.find_all(\"dl\", class_=\"col3f\")\n",
    "for product in products:\n",
    "    print(product.find(\"h5\", class_=\"prod_name\").text)\n",
    "    print(product.find(\"span\", class_=\"value\").text)"
   ]
  }
 ],
 "metadata": {
  "kernelspec": {
   "display_name": "Python 3 (ipykernel)",
   "language": "python",
   "name": "python3"
  },
  "language_info": {
   "codemirror_mode": {
    "name": "ipython",
    "version": 3
   },
   "file_extension": ".py",
   "mimetype": "text/x-python",
   "name": "python",
   "nbconvert_exporter": "python",
   "pygments_lexer": "ipython3",
   "version": "3.12.4"
  }
 },
 "nbformat": 4,
 "nbformat_minor": 5
}

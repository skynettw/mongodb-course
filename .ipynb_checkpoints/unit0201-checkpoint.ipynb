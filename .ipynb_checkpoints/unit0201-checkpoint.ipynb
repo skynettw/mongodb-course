{
 "cells": [
  {
   "cell_type": "code",
   "execution_count": 2,
   "id": "c51b3638-ddf6-43ec-a984-8a34f5406ef7",
   "metadata": {},
   "outputs": [
    {
     "name": "stdout",
     "output_type": "stream",
     "text": [
      "Collections in the database: []\n"
     ]
    }
   ],
   "source": [
    "from pymongo import MongoClient\n",
    "\n",
    "# 定義 MongoDB 的連線 URL\n",
    "username = \"admin\"\n",
    "password = \"mymdb$1234\"\n",
    "host = \"localhost\"\n",
    "port = 27017\n",
    "database = \"unit02db\"\n",
    "\n",
    "# 建立 MongoDB 連線 URI\n",
    "mongo_uri = f\"mongodb://{username}:{password}@{host}:{port}/{database}?authSource=admin\"\n",
    "\n",
    "try:\n",
    "    # 建立 MongoClient\n",
    "    client = MongoClient(mongo_uri)\n",
    "    \n",
    "    # 取得指定的資料庫\n",
    "    db = client[database]\n",
    "    \n",
    "    # 測試連線，列出資料庫中的集合\n",
    "    collections = db.list_collection_names()\n",
    "    print(\"Collections in the database:\", collections)\n",
    "\n",
    "except:\n",
    "    print(\"連線失敗\")\n"
   ]
  },
  {
   "cell_type": "code",
   "execution_count": 4,
   "id": "b14edea3-99c7-40b7-bacd-4658ec602f3c",
   "metadata": {},
   "outputs": [
    {
     "data": {
      "text/plain": [
       "InsertOneResult(ObjectId('66c48c14c71f4071efbf139d'), acknowledged=True)"
      ]
     },
     "execution_count": 4,
     "metadata": {},
     "output_type": "execute_result"
    }
   ],
   "source": [
    "db.create_collection(\"stuData\")\n",
    "db.stuData.insert_one({\"name\":\"Ricahrd\", \"age\":18, \"score\":98})"
   ]
  },
  {
   "cell_type": "code",
   "execution_count": 6,
   "id": "aef45e74-962a-47a8-8685-9c903a0ae115",
   "metadata": {},
   "outputs": [
    {
     "name": "stdout",
     "output_type": "stream",
     "text": [
      "{'_id': ObjectId('66c48c14c71f4071efbf139d'), 'name': 'Ricahrd', 'age': 18, 'score': 98}\n"
     ]
    }
   ],
   "source": [
    "data = db.stuData.find()\n",
    "for item in data:\n",
    "    print(item)"
   ]
  },
  {
   "cell_type": "code",
   "execution_count": 7,
   "id": "63ad924e-fe56-44cb-9a29-741b85095e95",
   "metadata": {},
   "outputs": [
    {
     "data": {
      "text/plain": [
       "[{'_id': ObjectId('66c48c14c71f4071efbf139d'),\n",
       "  'name': 'Ricahrd',\n",
       "  'age': 18,\n",
       "  'score': 98}]"
      ]
     },
     "execution_count": 7,
     "metadata": {},
     "output_type": "execute_result"
    }
   ],
   "source": [
    "data = [item for item in db.stuData.find()]\n",
    "data"
   ]
  },
  {
   "cell_type": "code",
   "execution_count": 11,
   "id": "f276f862-85c5-4dba-93ff-4c7a4472eec8",
   "metadata": {},
   "outputs": [
    {
     "data": {
      "text/plain": [
       "InsertManyResult([ObjectId('66c48ed9c71f4071efbf139e'), ObjectId('66c48ed9c71f4071efbf139f')], acknowledged=True)"
      ]
     },
     "execution_count": 11,
     "metadata": {},
     "output_type": "execute_result"
    }
   ],
   "source": [
    "db.stuData.insert_many([{\"name\":\"Richard\", \"age\":18}, {\"name\":\"Tom\", \"age\":20}])"
   ]
  },
  {
   "cell_type": "code",
   "execution_count": 12,
   "id": "75894f21-8006-4fd8-a1dc-b0188ec45b52",
   "metadata": {},
   "outputs": [
    {
     "name": "stdout",
     "output_type": "stream",
     "text": [
      "{'_id': ObjectId('66c48c14c71f4071efbf139d'), 'name': 'Ricahrd', 'age': 18, 'score': 98}\n",
      "{'_id': ObjectId('66c48ed9c71f4071efbf139e'), 'name': 'Richard', 'age': 18}\n",
      "{'_id': ObjectId('66c48ed9c71f4071efbf139f'), 'name': 'Tom', 'age': 20}\n"
     ]
    }
   ],
   "source": [
    "data = db.stuData.find()\n",
    "for item in data:\n",
    "    print(item)"
   ]
  }
 ],
 "metadata": {
  "kernelspec": {
   "display_name": "Python 3 (ipykernel)",
   "language": "python",
   "name": "python3"
  },
  "language_info": {
   "codemirror_mode": {
    "name": "ipython",
    "version": 3
   },
   "file_extension": ".py",
   "mimetype": "text/x-python",
   "name": "python",
   "nbconvert_exporter": "python",
   "pygments_lexer": "ipython3",
   "version": "3.12.4"
  }
 },
 "nbformat": 4,
 "nbformat_minor": 5
}

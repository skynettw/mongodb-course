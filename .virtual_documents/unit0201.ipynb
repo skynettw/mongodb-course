from pymongo import MongoClient

# 定義 MongoDB 的連線 URL
username = "admin"
password = "mymdb$1234"
host = "localhost"
port = 27017
database = "unit02db"

# 建立 MongoDB 連線 URI
mongo_uri = f"mongodb://{username}:{password}@{host}:{port}/{database}?authSource=admin"

try:
    # 建立 MongoClient
    client = MongoClient(mongo_uri)
    
    # 取得指定的資料庫
    db = client[database]
    
    # 測試連線，列出資料庫中的集合
    collections = db.list_collection_names()
    print("Collections in the database:", collections)

except:
    print("連線失敗")



def show_all():
    data = db.stuData.find()
    for item in data:
        print(item)


db.create_collection("stuData")
db.stuData.insert_one({"name":"Ricahrd", "age":18, "score":98})


data = db.stuData.find()
for item in data:
    print(item)


data = [item for item in db.stuData.find()]
data


db.stuData.insert_many([{"name":"Richard", "age":18}, {"name":"Tom", "age":20}])


data = db.stuData.find()
for item in data:
    print(item)


db.stuData.update_one({"name":"Tom"}, {"$set":{"score":89}})


db.stuData.delete_one({"name":"Richard", "score":{"$exists":False}})


db.stuData.update_many({"age":{"$gte":18}}, {"$set":{"adult":True}})


show_all()


from gpt4all import GPT4All

model = GPT4All("gpt4all-13b-snoozy-q4_0")
model.download_model() 



